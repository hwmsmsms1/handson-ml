{
 "cells": [
  {
   "cell_type": "markdown",
   "id": "331c0ba1",
   "metadata": {},
   "source": [
    "## 정규방정식\n",
    "```\n",
    "선형회귀문제에서 반복적인 알고리즘 없이 최적의 세타값을 구하는 해석적인 방법\n",
    "```\n",
    "\n",
    "$$ \\hat{\\theta} = (X^tX)^{-1}X^ty $$"
   ]
  },
  {
   "cell_type": "markdown",
   "id": "dd8f18f8",
   "metadata": {},
   "source": [
    "### rand, randn 차이\n",
    "```\n",
    "np.random.rand 는 0은 들어가고 1은 들어가지 않은 균등분포(각각의 변수가 나올 확률이 같음)에서 추출 , 음수 X\n",
    "np.random.randn 는 N(0,1), 표준정규분포에서 추출, 음수 O\n",
    "```"
   ]
  },
  {
   "cell_type": "code",
   "execution_count": 6,
   "id": "0e132979",
   "metadata": {},
   "outputs": [],
   "source": [
    "import numpy as np\n",
    "\n",
    "np.random.seed(42)\n",
    "m = 100\n",
    "X = 2 * np.random.rand(m,1)\n",
    "y = 4 + 3 * X + np.random.randn(m,1)"
   ]
  },
  {
   "cell_type": "markdown",
   "id": "32a04989",
   "metadata": {},
   "source": [
    "### add_dummy_feature\n",
    "```\n",
    "add_dummy_feature(X) : x0 = 1을 추가함.\n",
    "```"
   ]
  },
  {
   "cell_type": "code",
   "execution_count": 9,
   "id": "e7f16dbe",
   "metadata": {},
   "outputs": [
    {
     "name": "stdout",
     "output_type": "stream",
     "text": [
      "Original Dataset:\n",
      " [[1. 2. 3.]\n",
      " [4. 5. 6.]]\n",
      "\n",
      "Default dummy value:\n",
      " [[1. 1. 2. 3.]\n",
      " [1. 4. 5. 6.]]\n"
     ]
    }
   ],
   "source": [
    "from sklearn.preprocessing import add_dummy_feature\n",
    "\n",
    "dataset = np.array([[1.0, 2.0, 3.0], [4.0, 5.0, 6.0]])\n",
    "print(\"Original Dataset:\\n\", dataset)\n",
    "\n",
    "new_dataset = add_dummy_feature(dataset)\n",
    "print(\"\\nDefault dummy value:\\n\", new_dataset)"
   ]
  },
  {
   "cell_type": "code",
   "execution_count": 11,
   "id": "843a323c",
   "metadata": {},
   "outputs": [
    {
     "data": {
      "text/plain": [
       "array([[4.21509616],\n",
       "       [2.77011339]])"
      ]
     },
     "execution_count": 11,
     "metadata": {},
     "output_type": "execute_result"
    }
   ],
   "source": [
    "from sklearn.preprocessing import add_dummy_feature\n",
    "\n",
    "X_b = add_dummy_feature(X)\n",
    "theta_best = np.linalg.inv(X_b.T @ X_b) @ X_b.T @ y\n",
    "\n",
    "theta_best"
   ]
  },
  {
   "cell_type": "markdown",
   "id": "8105d4a8",
   "metadata": {},
   "source": [
    "## 새로운 데이터 X_new\n",
    "```\n",
    "x=0,x=2 일때 세타 이용해서 y값 예측\n",
    "\n",
    "```"
   ]
  },
  {
   "cell_type": "code",
   "execution_count": 19,
   "id": "e5ae9a11",
   "metadata": {
    "scrolled": true
   },
   "outputs": [
    {
     "name": "stdout",
     "output_type": "stream",
     "text": [
      "[[0]\n",
      " [2]]\n"
     ]
    }
   ],
   "source": [
    "X_new = np.array([[0],[2]])\n",
    "X_b_new = add_dummy_feature(X_new)\n",
    "y_predict = X_b_new @ theta_best\n",
    "y_predict"
   ]
  },
  {
   "cell_type": "markdown",
   "id": "7231e774",
   "metadata": {},
   "source": [
    "## 그래프 -, .\n",
    "```\n",
    "r- : red + 선\n",
    "b. : blue + 점\n",
    "```"
   ]
  },
  {
   "cell_type": "code",
   "execution_count": 26,
   "id": "14f53fc2",
   "metadata": {
    "scrolled": true
   },
   "outputs": [
    {
     "data": {
      "image/png": "[encoded data removed]",
      "text/plain": [
       "<Figure size 640x480 with 1 Axes>"
      ]
     },
     "metadata": {},
     "output_type": "display_data"
    }
   ],
   "source": [
    "import matplotlib.pyplot as plt\n",
    "\n",
    "plt.rcParams['font.family'] ='Malgun Gothic'\n",
    "plt.rcParams['axes.unicode_minus'] = False\n",
    "\n",
    "plt.plot(X_new, y_predict, \"r-\", label='예측')\n",
    "plt.plot(X, y, 'b.')\n",
    "\n",
    "plt.grid()\n",
    "plt.legend()\n",
    "plt.xlabel('X')\n",
    "plt.ylabel('y')\n",
    "\n",
    "plt.show()"
   ]
  },
  {
   "cell_type": "markdown",
   "id": "6aae1403",
   "metadata": {},
   "source": [
    "## 선형회귀\n",
    "```\n",
    "세타0 : intercept_ , 세타1 : coef_\n",
    "```"
   ]
  },
  {
   "cell_type": "code",
   "execution_count": 27,
   "id": "0ce7d2bc",
   "metadata": {},
   "outputs": [
    {
     "data": {
      "text/plain": [
       "(array([4.21509616]), array([[2.77011339]]))"
      ]
     },
     "execution_count": 27,
     "metadata": {},
     "output_type": "execute_result"
    }
   ],
   "source": [
    "from sklearn.linear_model import LinearRegression\n",
    "lin_reg = LinearRegression()\n",
    "lin_reg.fit(X, y)\n",
    "lin_reg.intercept_, lin_reg.coef_"
   ]
  },
  {
   "cell_type": "code",
   "execution_count": 28,
   "id": "5d4a32b9",
   "metadata": {
    "scrolled": true
   },
   "outputs": [
    {
     "data": {
      "text/plain": [
       "array([[4.21509616],\n",
       "       [9.75532293]])"
      ]
     },
     "execution_count": 28,
     "metadata": {},
     "output_type": "execute_result"
    }
   ],
   "source": [
    "lin_reg.predict(X_new)"
   ]
  },
  {
   "cell_type": "markdown",
   "id": "fe9f1b6e",
   "metadata": {},
   "source": [
    "## 세타 불러오는 다른 방법 1\n",
    "```\n",
    "scipy.linalg.lstsq() 함수에서 따옴\n",
    "```"
   ]
  },
  {
   "cell_type": "code",
   "execution_count": 29,
   "id": "5241fcbf",
   "metadata": {
    "scrolled": true
   },
   "outputs": [
    {
     "data": {
      "text/plain": [
       "array([[4.21509616],\n",
       "       [2.77011339]])"
      ]
     },
     "execution_count": 29,
     "metadata": {},
     "output_type": "execute_result"
    }
   ],
   "source": [
    "theta_best_svd, residuals, rank, s = np.linalg.lstsq(X_b, y, rcond=1e-6)\n",
    "theta_best_svd"
   ]
  },
  {
   "cell_type": "markdown",
   "id": "806e643d",
   "metadata": {},
   "source": [
    "## 세타 불러오는 다른 방법 2\n",
    "```\n",
    "유사역행렬을 직접 구함\n",
    "```\n",
    "$$ \\hat{\\theta} = X^+y$$"
   ]
  },
  {
   "cell_type": "code",
   "execution_count": 30,
   "id": "20feb513",
   "metadata": {},
   "outputs": [
    {
     "data": {
      "text/plain": [
       "array([[4.21509616],\n",
       "       [2.77011339]])"
      ]
     },
     "execution_count": 30,
     "metadata": {},
     "output_type": "execute_result"
    }
   ],
   "source": [
    "np.linalg.pinv(X_b) @ y"
   ]
  },
  {
   "cell_type": "markdown",
   "id": "d92fdb0d",
   "metadata": {},
   "source": [
    "## 경사하강법\n",
    "```\n",
    "특성 수가 매우 많거나, 훈련 샘플이 많아 메모리에 모두 담을 수 없을 때 적합한 방식\n",
    "\n",
    "경사하강법의 목표 : 비용함수 최소화, 하산할 때 기울기가 가파를수록 빨리 내려감.\n",
    "\n",
    "세타를 임의의 값으로 시작해서 한번에 조금씩 비용함수(ex. MSE)가 감소되는 방향으로 진행하여 알고리즘이 최솟값에 수렴할 때 까지 진행\n",
    "```"
   ]
  },
  {
   "cell_type": "markdown",
   "id": "044c00c5",
   "metadata": {},
   "source": [
    "## 학습 스텝\n",
    "```\n",
    "경사하강법에서 중요한 파라미터는 스텝의 크기임.\n",
    "학습률 하이퍼파라미터로 조정됨.\n",
    "\n",
    "학습률이 작으면 최솟값 도달까지 시간이 오래 걸림.\n",
    "\n",
    "학습률이 크면 세타값을 넘어 더 경사값이 올라 갈수도 있음.\n",
    "\n",
    "적절한 학습률 중요\n",
    "```\n"
   ]
  },
  {
   "cell_type": "markdown",
   "id": "0ae5749e",
   "metadata": {},
   "source": [
    "## 경사하강법 사용 조건\n",
    "```\n",
    "반드시 모든 특성의 스케일을 같게 만들어야함.\n",
    "\n",
    "시간 줄이기 위해\n",
    "```"
   ]
  },
  {
   "cell_type": "markdown",
   "id": "96809191",
   "metadata": {},
   "source": [
    "![경사하강법 스텝](./datasets/gd.png)"
   ]
  },
  {
   "cell_type": "markdown",
   "id": "05cfe2b1",
   "metadata": {},
   "source": [
    "## 배치 경사 하강법\n",
    "```\n",
    "매 스텝마다 전체 데이터를 모두 사용해서 시간이 오래 걸림\n",
    "```"
   ]
  },
  {
   "cell_type": "markdown",
   "id": "3e824fa3",
   "metadata": {},
   "source": [
    "## 비용 함수의 그레이디언트 벡터\n",
    "$$ \\frac{2}{m} X^t(X\\theta - y)$$"
   ]
  },
  {
   "cell_type": "code",
   "execution_count": 33,
   "id": "eeb297f7",
   "metadata": {},
   "outputs": [
    {
     "data": {
      "text/plain": [
       "array([[4.21509616],\n",
       "       [2.77011339]])"
      ]
     },
     "execution_count": 33,
     "metadata": {},
     "output_type": "execute_result"
    }
   ],
   "source": [
    "eta = 0.1 # 학습률\n",
    "n_epochs = 1000\n",
    "m = len(X_b)\n",
    "\n",
    "np.random.seed(42)\n",
    "theta = np.random.randn(2,1)\n",
    "\n",
    "for epoch in range(n_epochs):\n",
    "    gradients = 2 / m * X_b.T @ (X_b @ theta - y)\n",
    "    theta = theta - eta * gradients\n",
    "    \n",
    "theta"
   ]
  },
  {
   "cell_type": "markdown",
   "id": "8c15ded8",
   "metadata": {},
   "source": []
  }
 ],
 "metadata": {
  "kernelspec": {
   "display_name": "Python 3 (ipykernel)",
   "language": "python",
   "name": "python3"
  },
  "language_info": {
   "codemirror_mode": {
    "name": "ipython",
    "version": 3
   },
   "file_extension": ".py",
   "mimetype": "text/x-python",
   "name": "python",
   "nbconvert_exporter": "python",
   "pygments_lexer": "ipython3",
   "version": "3.9.7"
  }
 },
 "nbformat": 4,
 "nbformat_minor": 5
}
